{
  "nbformat": 4,
  "nbformat_minor": 0,
  "metadata": {
    "colab": {
      "provenance": [],
      "authorship_tag": "ABX9TyMdz7lyi12UjBH15b+XEfny",
      "include_colab_link": true
    },
    "kernelspec": {
      "name": "python3",
      "display_name": "Python 3"
    },
    "language_info": {
      "name": "python"
    }
  },
  "cells": [
    {
      "cell_type": "markdown",
      "metadata": {
        "id": "view-in-github",
        "colab_type": "text"
      },
      "source": [
        "<a href=\"https://colab.research.google.com/github/ChitviJoshi/Mini-Project-03/blob/main/Subset_Selection_Problem.ipynb\" target=\"_parent\"><img src=\"https://colab.research.google.com/assets/colab-badge.svg\" alt=\"Open In Colab\"/></a>"
      ]
    },
    {
      "cell_type": "code",
      "execution_count": null,
      "metadata": {
        "id": "fcldWGrePSQx"
      },
      "outputs": [],
      "source": []
    },
    {
      "cell_type": "markdown",
      "source": [
        "#**Subset Selection Problem**"
      ],
      "metadata": {
        "id": "hYYScZp7PXd_"
      }
    },
    {
      "cell_type": "markdown",
      "source": [
        "###1. Problem Statement:\n",
        "####Find all the subsets from a set of numbers whose sum is zero.\n",
        "####Constraint: Subset size must be 5\n",
        "####Set={-12, -3, -6, 7, 2, -2, 6, 3, 9, -7, -5, -8, 1, 11, -9, -4}"
      ],
      "metadata": {
        "id": "ZNsMX4oPPjmk"
      }
    },
    {
      "cell_type": "code",
      "source": [
        "import random as r\n",
        "set=([-12, -3, -6, 7, 2, -2, 6, 3, 9, -7, -5, -8, 1, 11, -9, -4])\n",
        "ns=5\n",
        "Rl=[]\n",
        "\n",
        "for i in range(1000):\n",
        "  a=r.choices(set,k=5)\n",
        "  if sum(a)==0:\n",
        "    Rl.append(tuple(a))\n",
        "  else:\n",
        "    continue\n",
        "print(Rl)"
      ],
      "metadata": {
        "colab": {
          "base_uri": "https://localhost:8080/"
        },
        "id": "PB3MAAtrPzS2",
        "outputId": "b55ac092-b6ca-4692-dc6f-a44a4de79997"
      },
      "execution_count": 3,
      "outputs": [
        {
          "output_type": "stream",
          "name": "stdout",
          "text": [
            "[(2, -8, 11, -3, -2), (-6, 7, -6, 9, -4), (3, 2, -4, 7, -8), (6, -5, -4, -6, 9), (6, 7, 11, -12, -12), (-2, -6, -3, 2, 9), (3, -12, 2, -4, 11), (-4, 11, 6, -9, -4), (-5, -3, -8, 7, 9), (-2, 6, -2, -4, 2), (-6, 2, -3, 9, -2), (6, -6, 11, -2, -9), (11, -6, 1, -3, -3), (-3, -9, 9, -3, 6), (2, 1, 3, 1, -7), (3, -5, -3, -6, 11), (9, 2, -6, 2, -7), (-3, 6, -7, 9, -5)]\n"
          ]
        }
      ]
    },
    {
      "cell_type": "markdown",
      "source": [
        "###2. Problem Statement:\n",
        "####Find all the subsets from a set of numbers whose sum is zero.\n",
        "####Constraint: Subset size must be 3 to 6 only\n",
        "####Set={-12, -3, -6, 7, 2, -2, 6, 3, 9, -7, -5, -8, 1, 11, -9, -4}"
      ],
      "metadata": {
        "id": "EpR29LGVSDP6"
      }
    },
    {
      "cell_type": "code",
      "source": [
        "import random as r\n",
        "set=([-12, -3, -6, 7, 2, -2, 6, 3, 9, -7, -5, -8, 1, 11, -9, -4])\n",
        "Rl=[]\n",
        "\n",
        "for i in range(1000):\n",
        "  ns=r.randint(3,7)\n",
        "  a=r.choices(set,k=ns)\n",
        "  if sum(a)==0:\n",
        "    Rl.append(tuple(a))\n",
        "  else:\n",
        "    continue\n",
        "print(Rl)"
      ],
      "metadata": {
        "colab": {
          "base_uri": "https://localhost:8080/"
        },
        "id": "haNXA8O5SLtU",
        "outputId": "f9f8bd01-c17d-4e5d-9757-7a840b2633a6"
      },
      "execution_count": 5,
      "outputs": [
        {
          "output_type": "stream",
          "name": "stdout",
          "text": [
            "[(-5, 3, 2), (1, -4, 3), (1, -8, 6, -3, 6, -2), (-6, 1, 9, -5, 7, -6), (9, 6, -3, -12), (3, -9, 6), (1, 1, 7, -9), (-5, -2, 7), (-9, 7, -2, -3, 7), (7, -4, -3), (-5, 6, -6, 7, -5, 6, -3), (3, -3, -9, 11, -2), (-9, -4, 7, 3, -4, 7), (9, -4, -5), (11, -3, 7, 7, -4, -6, -12), (-9, 2, 7), (11, -4, 11, -6, -12), (-12, 1, -7, 11, 6, -2, 3), (7, -7, 3, -3), (6, -8, 7, -5), (-6, 9, -3), (-9, -3, 3, 9), (3, 1, -4), (-5, 3, -7, -9, 9, 9), (-9, 9, -9, 9), (9, -9, 3, -12, 11, -2), (3, -4, 11, -5, -5)]\n"
          ]
        }
      ]
    }
  ]
}